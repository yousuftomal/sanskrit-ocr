{
  "cells": [
    {
      "cell_type": "markdown",
      "metadata": {
        "id": "MSCNenz9VGO2"
      },
      "source": [
        "**Sanskrit OCR using CV2 and CNN.**"
      ]
    },
    {
      "cell_type": "code",
      "execution_count": 25,
      "metadata": {
        "id": "z4sqS2HqYGTX"
      },
      "outputs": [],
      "source": [
        "import numpy as np\n",
        "import cv2\n",
        "from sklearn.model_selection import train_test_split\n",
        "import tensorflow as tf\n",
        "from tensorflow import keras\n",
        "from tensorflow.keras import layers\n",
        "from tensorflow.keras.utils import to_categorical\n",
        "from tensorflow.keras.layers import Dropout\n",
        "import pickle"
      ]
    },
    {
      "cell_type": "code",
      "execution_count": 26,
      "metadata": {
        "id": "b8vfflqaYQEh"
      },
      "outputs": [],
      "source": [
        "# Load the dataset\n",
        "with open(\"dev_letter_D.p\", \"rb\") as file:\n",
        "    dataset = pickle.load(file, encoding='latin1')"
      ]
    },
    {
      "cell_type": "code",
      "execution_count": 27,
      "metadata": {
        "colab": {
          "base_uri": "https://localhost:8080/",
          "height": 0
        },
        "id": "3z0lwJcKtdxR",
        "outputId": "9c6f9fdc-da66-42ec-c338-e4f855fddfe0"
      },
      "outputs": [
        {
          "name": "stdout",
          "output_type": "stream",
          "text": [
            "Number of letter images in the dataset are: 7702\n"
          ]
        }
      ],
      "source": [
        "print(\"Number of letter images in the dataset are: \" + str(len(dataset)))  # Fixed variable name 'db' to 'dataset'"
      ]
    },
    {
      "cell_type": "code",
      "execution_count": 28,
      "metadata": {
        "id": "ommtHhcMrFfW"
      },
      "outputs": [],
      "source": [
        "# Separate the data into images and labels\n",
        "images = [entry[0] for entry in dataset]\n",
        "labels = [entry[1] for entry in dataset]"
      ]
    },
    {
      "cell_type": "code",
      "execution_count": 29,
      "metadata": {
        "id": "6L5FHDU1rfVv"
      },
      "outputs": [],
      "source": [
        "# Preprocess the images\n",
        "# Resize and normalize the images, and convert to grayscale\n",
        "images = [cv2.resize(image, (32, 32)) for image in images]\n",
        "images = [cv2.cvtColor(image, cv2.COLOR_BGR2GRAY) for image in images]\n",
        "images = np.array(images, dtype=np.float32) / 255.0  # Normalize to the range [0, 1]"
      ]
    },
    {
      "cell_type": "code",
      "execution_count": 30,
      "metadata": {
        "id": "00aiSIF4rmGm"
      },
      "outputs": [],
      "source": [
        "# Split the dataset into training and testing sets\n",
        "X_train, X_test, y_train, y_test = train_test_split(images, labels, test_size=0.2, random_state=42)"
      ]
    },
    {
      "cell_type": "code",
      "execution_count": 31,
      "metadata": {
        "id": "stWvul0Msdbo"
      },
      "outputs": [],
      "source": [
        "# Convert your data to NumPy arrays and one-hot encode the labels\n",
        "X_train = np.array(X_train).reshape(-1, 32, 32, 1)  # Reshape for CNN\n",
        "X_test = np.array(X_test).reshape(-1, 32, 32, 1)\n",
        "y_train = to_categorical(y_train, num_classes=602)  # Assuming 602 classes\n",
        "y_test = to_categorical(y_test, num_classes=602)  # Assuming 602 classes"
      ]
    },
    {
      "cell_type": "code",
      "execution_count": 32,
      "metadata": {
        "id": "TA8ybsydrpdY"
      },
      "outputs": [],
      "source": [
        "# Define a simple convolutional neural network (CNN) model\n",
        "model = keras.Sequential([\n",
        "    layers.Input(shape=(32, 32, 1)),\n",
        "    layers.Conv2D(32, (3, 3), activation='relu'),\n",
        "    layers.MaxPooling2D((2, 2)),\n",
        "    layers.Flatten(),\n",
        "    layers.Dense(128, activation='relu'),\n",
        "    layers.Dense(602, activation='softmax')  # 602 classes for Sanskrit characters\n",
        "])"
      ]
    },
    {
      "cell_type": "code",
      "execution_count": 33,
      "metadata": {
        "id": "au6K9bn1rwXI"
      },
      "outputs": [],
      "source": [
        "# Compile the model\n",
        "model.compile(optimizer='adam', loss='categorical_crossentropy', metrics=['accuracy'])  # Changed loss to 'categorical_crossentropy'"
      ]
    },
    {
      "cell_type": "code",
      "execution_count": 34,
      "metadata": {
        "colab": {
          "base_uri": "https://localhost:8080/",
          "height": 0
        },
        "id": "mdVB33Xdr0ZY",
        "outputId": "00870c81-96d8-4cf7-be9e-53918bef8e4b"
      },
      "outputs": [
        {
          "name": "stdout",
          "output_type": "stream",
          "text": [
            "Epoch 1/20\n",
            "193/193 [==============================] - 2s 6ms/step - loss: 5.1739 - accuracy: 0.0928 - val_loss: 4.6785 - val_accuracy: 0.1622\n",
            "Epoch 2/20\n",
            "193/193 [==============================] - 1s 5ms/step - loss: 4.1428 - accuracy: 0.2355 - val_loss: 3.8431 - val_accuracy: 0.2784\n",
            "Epoch 3/20\n",
            "193/193 [==============================] - 1s 6ms/step - loss: 3.3125 - accuracy: 0.3590 - val_loss: 3.2270 - val_accuracy: 0.4244\n",
            "Epoch 4/20\n",
            "193/193 [==============================] - 1s 6ms/step - loss: 2.6679 - accuracy: 0.4759 - val_loss: 2.8535 - val_accuracy: 0.5029\n",
            "Epoch 5/20\n",
            "193/193 [==============================] - 1s 5ms/step - loss: 2.1822 - accuracy: 0.5577 - val_loss: 2.6201 - val_accuracy: 0.5756\n",
            "Epoch 6/20\n",
            "193/193 [==============================] - 1s 6ms/step - loss: 1.7945 - accuracy: 0.6265 - val_loss: 2.5219 - val_accuracy: 0.5938\n",
            "Epoch 7/20\n",
            "193/193 [==============================] - 1s 5ms/step - loss: 1.4983 - accuracy: 0.6859 - val_loss: 2.3881 - val_accuracy: 0.6535\n",
            "Epoch 8/20\n",
            "193/193 [==============================] - 1s 5ms/step - loss: 1.2579 - accuracy: 0.7322 - val_loss: 2.4321 - val_accuracy: 0.6522\n",
            "Epoch 9/20\n",
            "193/193 [==============================] - 1s 5ms/step - loss: 1.0792 - accuracy: 0.7679 - val_loss: 2.3478 - val_accuracy: 0.6872\n",
            "Epoch 10/20\n",
            "193/193 [==============================] - 1s 5ms/step - loss: 0.9257 - accuracy: 0.8013 - val_loss: 2.3581 - val_accuracy: 0.6957\n",
            "Epoch 11/20\n",
            "193/193 [==============================] - 1s 5ms/step - loss: 0.8153 - accuracy: 0.8296 - val_loss: 2.3444 - val_accuracy: 0.7047\n",
            "Epoch 12/20\n",
            "193/193 [==============================] - 1s 5ms/step - loss: 0.7146 - accuracy: 0.8481 - val_loss: 2.4791 - val_accuracy: 0.6957\n",
            "Epoch 13/20\n",
            "193/193 [==============================] - 1s 5ms/step - loss: 0.6418 - accuracy: 0.8705 - val_loss: 2.4317 - val_accuracy: 0.7190\n",
            "Epoch 14/20\n",
            "193/193 [==============================] - 1s 5ms/step - loss: 0.5729 - accuracy: 0.8859 - val_loss: 2.4691 - val_accuracy: 0.7249\n",
            "Epoch 15/20\n",
            "193/193 [==============================] - 1s 7ms/step - loss: 0.5229 - accuracy: 0.8917 - val_loss: 2.4529 - val_accuracy: 0.7242\n",
            "Epoch 16/20\n",
            "193/193 [==============================] - 1s 6ms/step - loss: 0.4801 - accuracy: 0.9025 - val_loss: 2.5622 - val_accuracy: 0.7223\n",
            "Epoch 17/20\n",
            "193/193 [==============================] - 1s 5ms/step - loss: 0.4350 - accuracy: 0.9127 - val_loss: 2.5297 - val_accuracy: 0.7378\n",
            "Epoch 18/20\n",
            "193/193 [==============================] - 1s 5ms/step - loss: 0.3959 - accuracy: 0.9192 - val_loss: 2.6614 - val_accuracy: 0.7274\n",
            "Epoch 19/20\n",
            "193/193 [==============================] - 1s 5ms/step - loss: 0.3605 - accuracy: 0.9300 - val_loss: 2.7587 - val_accuracy: 0.7326\n",
            "Epoch 20/20\n",
            "193/193 [==============================] - 1s 5ms/step - loss: 0.3395 - accuracy: 0.9299 - val_loss: 2.7110 - val_accuracy: 0.7372\n"
          ]
        },
        {
          "data": {
            "text/plain": [
              "<keras.src.callbacks.History at 0x7896246fb040>"
            ]
          },
          "execution_count": 34,
          "metadata": {},
          "output_type": "execute_result"
        }
      ],
      "source": [
        "# Train the model\n",
        "model.fit(X_train, y_train, epochs=20, batch_size=32, validation_data=(X_test, y_test))"
      ]
    },
    {
      "cell_type": "code",
      "execution_count": 37,
      "metadata": {
        "id": "n-QePxk3Qvb1"
      },
      "outputs": [],
      "source": [
        "#Save the model\n",
        "model.save(\"sanskrit_letters.model\")"
      ]
    },
    {
      "cell_type": "code",
      "execution_count": 38,
      "metadata": {
        "colab": {
          "base_uri": "https://localhost:8080/",
          "height": 0
        },
        "id": "b2m8Mk6SR8fN",
        "outputId": "6358efdc-b797-4569-f25d-b897648a2b50"
      },
      "outputs": [
        {
          "name": "stdout",
          "output_type": "stream",
          "text": [
            "  adding: content/sanskrit_letters.model/ (stored 0%)\n",
            "  adding: content/sanskrit_letters.model/saved_model.pb (deflated 87%)\n",
            "  adding: content/sanskrit_letters.model/variables/ (stored 0%)\n",
            "  adding: content/sanskrit_letters.model/variables/variables.index (deflated 59%)\n",
            "  adding: content/sanskrit_letters.model/variables/variables.data-00000-of-00001 (deflated 31%)\n",
            "  adding: content/sanskrit_letters.model/fingerprint.pb (stored 0%)\n",
            "  adding: content/sanskrit_letters.model/keras_metadata.pb (deflated 87%)\n",
            "  adding: content/sanskrit_letters.model/assets/ (stored 0%)\n"
          ]
        }
      ],
      "source": [
        "#Download the model folder as .zip\n",
        "!zip -r /content/sanskrit_letters.zip /content/sanskrit_letters.model"
      ]
    },
    {
      "cell_type": "code",
      "execution_count": 35,
      "metadata": {
        "colab": {
          "base_uri": "https://localhost:8080/",
          "height": 0
        },
        "id": "uxWtZqUcCdV_",
        "outputId": "5b8a9e9d-b745-49de-cbe4-738e8e24e192"
      },
      "outputs": [
        {
          "name": "stdout",
          "output_type": "stream",
          "text": [
            "49/49 [==============================] - 0s 5ms/step - loss: 2.7110 - accuracy: 0.7372\n",
            "Test accuracy: 0.7371836304664612\n"
          ]
        }
      ],
      "source": [
        "# Evaluate the model\n",
        "test_loss, test_accuracy = model.evaluate(X_test, y_test)\n",
        "print(f\"Test accuracy: {test_accuracy}\")"
      ]
    },
    {
      "cell_type": "code",
      "execution_count": 36,
      "metadata": {
        "colab": {
          "base_uri": "https://localhost:8080/",
          "height": 0
        },
        "id": "peQkAKBUCowm",
        "outputId": "6f271209-7da4-462d-d153-292f7bd7059e"
      },
      "outputs": [
        {
          "name": "stdout",
          "output_type": "stream",
          "text": [
            "1/1 [==============================] - 0s 115ms/step\n",
            "Predicted class: 90 - kaM\n"
          ]
        }
      ],
      "source": [
        "# Use the model for character recognition\n",
        "# You can use the model to predict the class of a character in a new image\n",
        "# For example:\n",
        "sample_image = cv2.imread(\"12.png\")\n",
        "sample_image = cv2.resize(sample_image, (32, 32))\n",
        "sample_image = cv2.cvtColor(sample_image, cv2.COLOR_BGR2GRAY)\n",
        "sample_image = np.array(sample_image) / 255.0\n",
        "prediction = model.predict(np.expand_dims(sample_image, axis=0))\n",
        "predicted_class = np.argmax(prediction)\n",
        "\n",
        "# Print the English class annotation for the predicted class\n",
        "print(f\"Predicted class: {predicted_class} - {dataset[predicted_class][2]}\")"
      ]
    }
  ],
  "metadata": {
    "accelerator": "GPU",
    "colab": {
      "gpuType": "T4",
      "provenance": []
    },
    "kernelspec": {
      "display_name": "Python 3",
      "name": "python3"
    },
    "language_info": {
      "name": "python"
    }
  },
  "nbformat": 4,
  "nbformat_minor": 0
}
